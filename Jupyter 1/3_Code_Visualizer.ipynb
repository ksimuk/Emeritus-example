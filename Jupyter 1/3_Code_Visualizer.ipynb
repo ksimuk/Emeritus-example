{
 "cells": [
  {
   "cell_type": "markdown",
   "metadata": {},
   "source": [
    "# Code Visualizer\n",
    "\n",
    "Codio offers the ability to integrate a code visualizer when creating content in the Guide. This cannot be done with a Jupyter notebook. One way around this is to insert a link that opens the visualizer in a new tab. Another option is to create a cell that, when run, will show the visualizer.\n",
    "\n",
    "## The Code\n",
    "\n",
    "The cell below contains a nested loop that a beginner may have a hard time understanding. Adding a code visualizer will help students understand the loop by allowing them to step through the code."
   ]
  },
  {
   "cell_type": "code",
   "execution_count": null,
   "metadata": {},
   "outputs": [],
   "source": [
    "for i in range(10):\n",
    "    for j in range(i + 1):\n",
    "        print(\"*\", end=\"\")\n",
    "    print(\"\\n\")"
   ]
  },
  {
   "cell_type": "markdown",
   "metadata": {},
   "source": [
    "## Creating the Visualizer\n",
    "\n",
    "The first step is to create a working visualizer with the [Python Tutor](http://pythontutor.com/visualize.html#mode=edit) website. Despite it's name, Python Tutor works with [Java](http://pythontutor.com/java.html), [C](http://pythontutor.com/c.html), [C++](http://pythontutor.com/cpp.html), [JavaScript](http://pythontutor.com/javascript.html), and [Ruby](http://pythontutor.com/ruby.html).\n",
    "\n",
    "### Enter the Code\n",
    "\n",
    "Copy and paste the code from the Jupyter cell into the editor for the code visualizer.\n",
    "\n",
    "![Visualizer Code](img/visualizer-code.png)\n",
    "\n",
    "### Start the Visualizer\n",
    "\n",
    "Click the button `Visualize Execution` to start the code visualizer.\n",
    "\n",
    "![Visualizer Code](img/visualizer-button.png)\n",
    "\n",
    "### Step Through the Code\n",
    "\n",
    "Click the `Next` button to step through the code one line at a time. Variable values and output will appear in the box to the right.\n",
    "\n",
    "![Visualizer Code](img/visualizer-next.png)\n",
    "\n",
    "## The Link\n",
    "\n",
    "Once the visualizer is in working order, click the `Generate permanant link` button to create a link to this visualizer. \n",
    "\n",
    "![Generate Link](img/generate_link.png)\n",
    "\n",
    "Insert this link into the Jupyter notebook. When students click on it, the link will open a new tab with the visualizer.\n",
    "\n",
    "[Code Visualizer](http://pythontutor.com/visualize.html#code=for%20i%20in%20range%2810%29%3A%0A%20%20%20%20for%20j%20in%20range%28i%20%2B%201%29%3A%0A%20%20%20%20%20%20%20%20print%28%22*%22,%20end%3D%22%22%29%0A%20%20%20%20print%28%22%5Cn%22%29&cumulative=false&curInstr=0&heapPrimitives=nevernest&mode=display&origin=opt-frontend.js&py=3&rawInputLstJSON=%5B%5D&textReferences=false)\n",
    "\n",
    "## Cell Magics\n",
    "\n",
    "[Cell magics](https://nbviewer.jupyter.org/github/ipython/ipython/blob/1.x/examples/notebooks/Cell%20Magics.ipynb) are a way to extend the functionality of Jupyter notebooks. Magics are used in a code cell, and must be run by the user. Using the `%%HTML` magic will allow you to add an iframe to the notebook. Create the code visualizer as explained above, then click the `Generate embed code` button. \n",
    "\n",
    "![Embed Code](img/embed_code.png)\n",
    "\n",
    "Use the `%%HTML` magic and the iframe code to create a cell like the one below. Run it to see the code visualizer."
   ]
  },
  {
   "cell_type": "code",
   "execution_count": null,
   "metadata": {},
   "outputs": [],
   "source": [
    "%%HTML\n",
    "\n",
    "<iframe width=\"800\" height=\"500\" frameborder=\"0\" src=\"https://pythontutor.com/iframe-embed.html#code=for%20i%20in%20range%2810%29%3A%0A%20%20%20%20for%20j%20in%20range%28i%20%2B%201%29%3A%0A%20%20%20%20%20%20%20%20print%28%22*%22,%20end%3D%22%22%29%0A%20%20%20%20print%28%22%5Cn%22%29&codeDivHeight=400&codeDivWidth=350&cumulative=false&curInstr=0&heapPrimitives=nevernest&origin=opt-frontend.js&py=3&rawInputLstJSON=%5B%5D&textReferences=false\"> </iframe>"
   ]
  }
 ],
 "metadata": {
  "kernelspec": {
   "display_name": "Python 3",
   "language": "python",
   "name": "python3"
  },
  "language_info": {
   "codemirror_mode": {
    "name": "ipython",
    "version": 3
   },
   "file_extension": ".py",
   "mimetype": "text/x-python",
   "name": "python",
   "nbconvert_exporter": "python",
   "pygments_lexer": "ipython3",
   "version": "3.6.9"
  }
 },
 "nbformat": 4,
 "nbformat_minor": 2
}
