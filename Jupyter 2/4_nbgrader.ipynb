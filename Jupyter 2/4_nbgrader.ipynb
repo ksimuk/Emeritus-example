{
 "cells": [
  {
   "cell_type": "markdown",
   "metadata": {},
   "source": [
    "# nbgrader\n",
    "\n",
    "nbgrader is a Jupyter notebook grading system. With nbgrader, you can add auto-graded or manually graded asessments. Manually graded assessments can be code-based or free response. You have the ability to set the number of points for each question, and you can override a grade if need be. Assessments are added directly to a notebook, and there is no need to do a system exit (all or nothing questions) or an HTTP request (partial points) as is required for advanced code tests in the Guide. Be sure to check out the [Codio documentation](https://docs.codio.com/courses/g\n",
    "rading/#nbgrader-autograding) on nbgrader for more information.\n",
    "\n",
    "## `.codio-jupyter` File\n",
    "\n",
    "Codio requires a `.codio-jupyter`file in the file tree. Right-click on the root of the file tree and add this file. This file can be left empty, or you can set several [configuration options](https://docs.codio.com/courses/grading/#configuration).\n",
    "\n",
    "## Creating an nbgrader Cell\n",
    "\n",
    "Add a code cell to the notebook. In the menu bar click `View`, then `Cell Toolbar`, and finally click `Create Assignment`.\n",
    "\n",
    "![nbgrader Cell](img/nbgrader_cell.png)\n",
    "\n",
    "In the top-right corner of the code cell, you will see a dropdown menu. You can select the type of assessment you want.\n",
    "\n",
    "![Cell Toolbar](img/cell_toolbar.png)\n",
    "dsfasdf\n",
    "\n",
    "asdfasdfasd asd asd\n",
    "asdfasdf\n",
    "asdfasdf\n",
    "sadfasd fsadf asdf sadf\n",
    "asdfasdfasdf"
   ]
  },
  {
   "cell_type": "markdown",
   "metadata": {},
   "source": [
    "## Manually Graded Assessments\n",
    "\n",
    "Select `Manually graded answer` from the dropdown menu in the cell toolbar and assign the number of points for the assessment. The ID for this cell is automatically generated, but you can change it to a more meaningful name. The cell below is an example of a manually graded assessment. Manually graded cells can be either markdown or coding cells."
   ]
  },
  {
   "cell_type": "markdown",
   "metadata": {
    "nbgrader": {
     "grade": true,
     "grade_id": "why_functions",
     "locked": false,
     "points": 2,
     "schema_version": 1,
     "solution": true
    }
   },
   "source": [
    "#  Why functions\n",
    "\n",
    "Give two benefits of using functions in your code."
   ]
  },
  {
   "cell_type": "markdown",
   "metadata": {},
   "source": [
    "## Auto-Graded Assessments\n",
    "\n",
    "Auto-graded assessments are divided into two types of cells, auto-graded answers and auto-graded tests. Auto-graded answer cells are cells for students to compose their answer. You can prepopulate these cells with boilerplate code if you would like. The following delimeters are used to designate an area for students to write their answer.\n",
    "\n",
    "![Begin and End a Solution](img/begin-end-solution.png)"
   ]
  },
  {
   "cell_type": "code",
   "execution_count": null,
   "metadata": {
    "nbgrader": {
     "grade": false,
     "grade_id": "cell-7abf9280766941df",
     "locked": false,
     "schema_version": 1,
     "solution": true
    }
   },
   "outputs": [],
   "source": [
    "# Complete the function below that returns a list of squares from 1 to n\n",
    "\n",
    "def squares(n):\n",
    "    \"\"\"Calculates and returns a list of squares from 1 to n\"\"\"\n",
    "    ### BEGIN SOLUTION\n",
    "    answer = []\n",
    "    for i in range(1, n+1):\n",
    "        answer.append(i ** 2)\n",
    "    return answer\n",
    "    ### END SOLUTION"
   ]
  },
  {
   "cell_type": "markdown",
   "metadata": {
    "nbgrader": {
     "grade": false,
     "grade_id": "cell-1af2c26105ca96ce",
     "locked": true,
     "schema_version": 1,
     "solution": false
    }
   },
   "source": [
    "## Auto-Graded Tests\n",
    "\n",
    "Grading student work is done with an auto-grader test cell. This cell applies several tests to student code using the `assert` command. Other tests `assert_equal` or `assert_raises`, but these need to be imported first.\n",
    "\n",
    "![Testing Imports](img/test_imports.png)\n",
    "\n",
    "Students will be able to see all of these test cases in the cell. This gives them an idea how their code will be tested. If you want to apply hidden tests to the student code, use the following delimeters.\n",
    "\n",
    "![Hidden Test Syntax](img/hidden_solution.png)"
   ]
  },
  {
   "cell_type": "code",
   "execution_count": null,
   "metadata": {
    "nbgrader": {
     "grade": true,
     "grade_id": "cell-90b9e6131983c587",
     "locked": true,
     "points": 0,
     "schema_version": 1,
     "solution": false
    }
   },
   "outputs": [],
   "source": [
    "\"\"\"Example of testing student code with visible and hidden tests\"\"\"\n",
    "assert squares(1), [1]\n",
    "assert squares(2), [1, 4]\n",
    "assert squares(3), [1, 4, 9]\n",
    "### BEGIN HIDDEN TESTS\n",
    "assert squares(5), [1, 4, 9, 16, 25]\n",
    "assert squares(10), [1, 4, 9, 16, 25, 36, 49, 64, 81, 100]\n",
    "### END HIDDEN TESTS"
   ]
  },
  {
   "cell_type": "markdown",
   "metadata": {},
   "source": [
    "## Read-Only Cells\n",
    "\n",
    "You can mark cells as read-only if you do not want students to alter them. Use the dropdown menu in the cell toolbar. Both markdown and coding cells can be marked as read-only. Testing cells will automatically be marked as read-only. Read-only cells will have a lock icon in the top-left corner. \n",
    "\n",
    "![Locked Cell](img/lock.png)"
   ]
  },
  {
   "cell_type": "markdown",
   "metadata": {},
   "source": [
    "## Validating the Tests\n",
    "\n",
    "The `Validate` button will verify that your tests are valid. If there is a problem, Jupyter will indicate the cell and line number.\n",
    "\n",
    "![Test Failed](img/test_error.png)"
   ]
  },
  {
   "cell_type": "markdown",
   "metadata": {},
   "source": [
    "## Partial Points\n",
    "\n",
    "Auto-graded tests are all-or-nothing when it comes to assigning points. In the example above, there are a total of five tests and five points. However, if the student does not pass one of the tests, they are awarded 0 points. They must pass all of the tests to receive the 5 points. There are three ways to award partial points:\n",
    "\n",
    "* One way around this is to break up each test into its own cell. Make each test cell worth 1 point. That way the student receives a point for each test passed.\n",
    "\n",
    "* You could also have a manually graded cell for code. This assessment could be worth 5 points, and you would assign the grade you think the student earned.\n",
    "\n",
    "* You can manually override a students grade when you open their submission."
   ]
  },
  {
   "cell_type": "markdown",
   "metadata": {},
   "source": [
    "## Feedback\n",
    "\n",
    "Opening student submissions allows for you to write feedback. Below each problem (auto-graded or manually graded) is a text field where you can write your feedback.\n",
    "\n",
    "![Student Feedback](img/feedback.png)"
   ]
  }
 ],
 "metadata": {
  "celltoolbar": "Create Assignment",
  "kernelspec": {
   "display_name": "Python 3",
   "language": "python",
   "name": "python3"
  },
  "language_info": {
   "codemirror_mode": {
    "name": "ipython",
    "version": 3
   },
   "file_extension": ".py",
   "mimetype": "text/x-python",
   "name": "python",
   "nbconvert_exporter": "python",
   "pygments_lexer": "ipython3",
   "version": "3.6.9"
  }
 },
 "nbformat": 4,
 "nbformat_minor": 2
}
